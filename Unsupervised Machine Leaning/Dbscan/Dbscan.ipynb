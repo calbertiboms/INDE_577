{
 "cells": [
  {
   "cell_type": "markdown",
   "metadata": {},
   "source": [
    "# Clustering Significant Earthquakes with DBSCAN\n",
    "\n",
    "## Overview\n",
    "\n",
    "DBSCAN (Density-Based Spatial Clustering of Applications with Noise) is a powerful unsupervised clustering algorithm that groups points based on density and identifies outliers in the dataset. Unlike other clustering methods, it does not require specifying the number of clusters in advance and can find clusters of arbitrary shapes.\n",
    "\n",
    "## Objective\n",
    "\n",
    "In this notebook, we will:\n",
    "1. Load a dataset of significant earthquakes from `significant_earthquakes.csv`.\n",
    "2. Perform basic preprocessing to prepare the data for clustering.\n",
    "3. Apply DBSCAN to identify clusters of earthquake occurrences and detect noise (outliers).\n",
    "4. Visualize the clustering results on a 2D scatter plot.\n",
    "\n"
   ]
  },
  {
   "cell_type": "markdown",
   "metadata": {},
   "source": [
    "## Data preparation\n",
    "\n",
    "Here, we upload the data and extract the latitude and longitude of earthquake locations to use as input for the clustering algorithm. These coordinates represent points in a 2D space for DBSCAN clustering."
   ]
  },
  {
   "cell_type": "code",
   "execution_count": 44,
   "metadata": {},
   "outputs": [],
   "source": [
    "import pandas as pd\n",
    "import numpy as np\n",
    "import matplotlib.pyplot as plt\n",
    "import geopandas as gpd\n",
    "import matplotlib.pyplot as plt"
   ]
  },
  {
   "cell_type": "code",
   "execution_count": 45,
   "metadata": {},
   "outputs": [
    {
     "data": {
      "text/html": [
       "<div>\n",
       "<style scoped>\n",
       "    .dataframe tbody tr th:only-of-type {\n",
       "        vertical-align: middle;\n",
       "    }\n",
       "\n",
       "    .dataframe tbody tr th {\n",
       "        vertical-align: top;\n",
       "    }\n",
       "\n",
       "    .dataframe thead th {\n",
       "        text-align: right;\n",
       "    }\n",
       "</style>\n",
       "<table border=\"1\" class=\"dataframe\">\n",
       "  <thead>\n",
       "    <tr style=\"text-align: right;\">\n",
       "      <th></th>\n",
       "      <th>time</th>\n",
       "      <th>latitude</th>\n",
       "      <th>longitude</th>\n",
       "      <th>depth</th>\n",
       "      <th>mag</th>\n",
       "      <th>magType</th>\n",
       "      <th>nst</th>\n",
       "      <th>gap</th>\n",
       "      <th>dmin</th>\n",
       "      <th>rms</th>\n",
       "      <th>...</th>\n",
       "      <th>updated</th>\n",
       "      <th>place</th>\n",
       "      <th>type</th>\n",
       "      <th>horizontalError</th>\n",
       "      <th>depthError</th>\n",
       "      <th>magError</th>\n",
       "      <th>magNst</th>\n",
       "      <th>status</th>\n",
       "      <th>locationSource</th>\n",
       "      <th>magSource</th>\n",
       "    </tr>\n",
       "  </thead>\n",
       "  <tbody>\n",
       "    <tr>\n",
       "      <th>0</th>\n",
       "      <td>2024-11-27T21:21:14.220Z</td>\n",
       "      <td>34.527833</td>\n",
       "      <td>-118.856167</td>\n",
       "      <td>8.86</td>\n",
       "      <td>1.33</td>\n",
       "      <td>ml</td>\n",
       "      <td>36.0</td>\n",
       "      <td>42.0</td>\n",
       "      <td>0.06963</td>\n",
       "      <td>0.24</td>\n",
       "      <td>...</td>\n",
       "      <td>2024-11-27T21:26:09.497Z</td>\n",
       "      <td>14 km NNW of Piru, CA</td>\n",
       "      <td>earthquake</td>\n",
       "      <td>0.29</td>\n",
       "      <td>0.82</td>\n",
       "      <td>0.251</td>\n",
       "      <td>31.0</td>\n",
       "      <td>automatic</td>\n",
       "      <td>ci</td>\n",
       "      <td>ci</td>\n",
       "    </tr>\n",
       "    <tr>\n",
       "      <th>1</th>\n",
       "      <td>2024-11-27T21:20:16.503Z</td>\n",
       "      <td>63.002600</td>\n",
       "      <td>-148.148500</td>\n",
       "      <td>8.40</td>\n",
       "      <td>1.20</td>\n",
       "      <td>ml</td>\n",
       "      <td>NaN</td>\n",
       "      <td>NaN</td>\n",
       "      <td>NaN</td>\n",
       "      <td>1.03</td>\n",
       "      <td>...</td>\n",
       "      <td>2024-11-27T21:22:05.929Z</td>\n",
       "      <td>59 km SE of Cantwell, Alaska</td>\n",
       "      <td>earthquake</td>\n",
       "      <td>NaN</td>\n",
       "      <td>0.30</td>\n",
       "      <td>NaN</td>\n",
       "      <td>NaN</td>\n",
       "      <td>automatic</td>\n",
       "      <td>ak</td>\n",
       "      <td>ak</td>\n",
       "    </tr>\n",
       "    <tr>\n",
       "      <th>2</th>\n",
       "      <td>2024-11-27T21:04:36.070Z</td>\n",
       "      <td>19.417000</td>\n",
       "      <td>-155.863159</td>\n",
       "      <td>8.39</td>\n",
       "      <td>2.13</td>\n",
       "      <td>md</td>\n",
       "      <td>23.0</td>\n",
       "      <td>219.0</td>\n",
       "      <td>0.15300</td>\n",
       "      <td>0.21</td>\n",
       "      <td>...</td>\n",
       "      <td>2024-11-27T21:06:37.650Z</td>\n",
       "      <td>4 km S of Honaunau-Napoopoo, Hawaii</td>\n",
       "      <td>earthquake</td>\n",
       "      <td>0.90</td>\n",
       "      <td>0.67</td>\n",
       "      <td>0.320</td>\n",
       "      <td>6.0</td>\n",
       "      <td>automatic</td>\n",
       "      <td>hv</td>\n",
       "      <td>hv</td>\n",
       "    </tr>\n",
       "    <tr>\n",
       "      <th>3</th>\n",
       "      <td>2024-11-27T20:50:06.280Z</td>\n",
       "      <td>35.633000</td>\n",
       "      <td>-117.579500</td>\n",
       "      <td>8.03</td>\n",
       "      <td>1.19</td>\n",
       "      <td>ml</td>\n",
       "      <td>24.0</td>\n",
       "      <td>67.0</td>\n",
       "      <td>0.06898</td>\n",
       "      <td>0.14</td>\n",
       "      <td>...</td>\n",
       "      <td>2024-11-27T20:57:08.015Z</td>\n",
       "      <td>9 km E of Ridgecrest, CA</td>\n",
       "      <td>earthquake</td>\n",
       "      <td>0.20</td>\n",
       "      <td>0.52</td>\n",
       "      <td>0.166</td>\n",
       "      <td>17.0</td>\n",
       "      <td>reviewed</td>\n",
       "      <td>ci</td>\n",
       "      <td>ci</td>\n",
       "    </tr>\n",
       "    <tr>\n",
       "      <th>4</th>\n",
       "      <td>2024-11-27T20:47:13.110Z</td>\n",
       "      <td>34.913500</td>\n",
       "      <td>-119.613000</td>\n",
       "      <td>8.40</td>\n",
       "      <td>0.98</td>\n",
       "      <td>ml</td>\n",
       "      <td>14.0</td>\n",
       "      <td>95.0</td>\n",
       "      <td>0.05794</td>\n",
       "      <td>0.18</td>\n",
       "      <td>...</td>\n",
       "      <td>2024-11-27T21:06:58.392Z</td>\n",
       "      <td>25 km SW of Maricopa, CA</td>\n",
       "      <td>earthquake</td>\n",
       "      <td>0.40</td>\n",
       "      <td>0.81</td>\n",
       "      <td>0.058</td>\n",
       "      <td>7.0</td>\n",
       "      <td>reviewed</td>\n",
       "      <td>ci</td>\n",
       "      <td>ci</td>\n",
       "    </tr>\n",
       "  </tbody>\n",
       "</table>\n",
       "<p>5 rows × 22 columns</p>\n",
       "</div>"
      ],
      "text/plain": [
       "                       time   latitude   longitude  depth   mag magType   nst  \\\n",
       "0  2024-11-27T21:21:14.220Z  34.527833 -118.856167   8.86  1.33      ml  36.0   \n",
       "1  2024-11-27T21:20:16.503Z  63.002600 -148.148500   8.40  1.20      ml   NaN   \n",
       "2  2024-11-27T21:04:36.070Z  19.417000 -155.863159   8.39  2.13      md  23.0   \n",
       "3  2024-11-27T20:50:06.280Z  35.633000 -117.579500   8.03  1.19      ml  24.0   \n",
       "4  2024-11-27T20:47:13.110Z  34.913500 -119.613000   8.40  0.98      ml  14.0   \n",
       "\n",
       "     gap     dmin   rms  ...                   updated  \\\n",
       "0   42.0  0.06963  0.24  ...  2024-11-27T21:26:09.497Z   \n",
       "1    NaN      NaN  1.03  ...  2024-11-27T21:22:05.929Z   \n",
       "2  219.0  0.15300  0.21  ...  2024-11-27T21:06:37.650Z   \n",
       "3   67.0  0.06898  0.14  ...  2024-11-27T20:57:08.015Z   \n",
       "4   95.0  0.05794  0.18  ...  2024-11-27T21:06:58.392Z   \n",
       "\n",
       "                                 place        type horizontalError depthError  \\\n",
       "0                14 km NNW of Piru, CA  earthquake            0.29       0.82   \n",
       "1         59 km SE of Cantwell, Alaska  earthquake             NaN       0.30   \n",
       "2  4 km S of Honaunau-Napoopoo, Hawaii  earthquake            0.90       0.67   \n",
       "3             9 km E of Ridgecrest, CA  earthquake            0.20       0.52   \n",
       "4             25 km SW of Maricopa, CA  earthquake            0.40       0.81   \n",
       "\n",
       "   magError  magNst     status  locationSource magSource  \n",
       "0     0.251    31.0  automatic              ci        ci  \n",
       "1       NaN     NaN  automatic              ak        ak  \n",
       "2     0.320     6.0  automatic              hv        hv  \n",
       "3     0.166    17.0   reviewed              ci        ci  \n",
       "4     0.058     7.0   reviewed              ci        ci  \n",
       "\n",
       "[5 rows x 22 columns]"
      ]
     },
     "execution_count": 45,
     "metadata": {},
     "output_type": "execute_result"
    }
   ],
   "source": [
    "file_path = \"/Users/ceciliaalberti/Documents/INDE_577/datasets/significant_earthquakes.csv\"\n",
    "df = pd.read_csv(file_path)\n",
    "df.head()"
   ]
  },
  {
   "cell_type": "code",
   "execution_count": 47,
   "metadata": {},
   "outputs": [
    {
     "data": {
      "text/plain": [
       "array([[  34.5278333 , -118.8561667 ],\n",
       "       [  63.0026    , -148.1485    ],\n",
       "       [  19.41699982, -155.86315918],\n",
       "       ...,\n",
       "       [  33.4838333 , -116.4556667 ],\n",
       "       [  49.3885    , -120.51333333],\n",
       "       [  31.667     , -104.449     ]])"
      ]
     },
     "execution_count": 47,
     "metadata": {},
     "output_type": "execute_result"
    }
   ],
   "source": [
    "# Extract latitude and longitude for clustering\n",
    "coordinates = df[['latitude', 'longitude']].to_numpy()\n",
    "\n",
    "# Display the extracted coordinates\n",
    "coordinates\n"
   ]
  },
  {
   "cell_type": "markdown",
   "metadata": {},
   "source": [
    "## DBScan algorithm\n"
   ]
  },
  {
   "cell_type": "code",
   "execution_count": 48,
   "metadata": {},
   "outputs": [],
   "source": [
    "def euclidean_distance(point1, point2):\n",
    "    \"\"\"\n",
    "    Calculate the Euclidean distance between two points.\n",
    "\n",
    "    Parameters:\n",
    "    - point1: A numpy array representing the first point.\n",
    "    - point2: A numpy array representing the second point.\n",
    "\n",
    "    Returns:\n",
    "    - A float representing the distance between the two points.\n",
    "    \"\"\"\n",
    "    return np.sqrt(np.sum((point1 - point2) ** 2))\n"
   ]
  },
  {
   "cell_type": "code",
   "execution_count": 49,
   "metadata": {},
   "outputs": [],
   "source": [
    "def find_neighbors(data, point_idx, eps):\n",
    "    \"\"\"\n",
    "    Find all neighboring points within the radius `eps` of a given point.\n",
    "\n",
    "    Parameters:\n",
    "    - data: A numpy array of shape (n_points, n_features), the dataset.\n",
    "    - point_idx: An integer, the index of the point for which to find neighbors.\n",
    "    - eps: A float, the radius of the neighborhood.\n",
    "\n",
    "    Returns:\n",
    "    - A list of indices of points that are within the `eps` radius of the given point.\n",
    "    \"\"\"\n",
    "    neighbors = []\n",
    "    for idx, point in enumerate(data):\n",
    "        if euclidean_distance(data[point_idx], point) <= eps:\n",
    "            neighbors.append(idx)\n",
    "    return neighbors\n",
    "\n"
   ]
  },
  {
   "cell_type": "code",
   "execution_count": null,
   "metadata": {},
   "outputs": [],
   "source": [
    "def dbscan(data, eps, min_pts):\n",
    "    \"\"\"\n",
    "    Perform Density-Based Spatial Clustering of Applications with Noise (DBSCAN).\n",
    "\n",
    "    Parameters:\n",
    "    - data: A numpy array of shape (n_points, n_features), the dataset.\n",
    "    - eps: A float, the radius of the neighborhood for density estimation.\n",
    "    - min_pts: An integer, the minimum number of points required to form a dense region.\n",
    "\n",
    "    Returns:\n",
    "    - labels: A list of integers where each entry corresponds to the cluster ID of a point.\n",
    "              Noise points are labeled as -1.\n",
    "    \"\"\"\n",
    "    n_points = len(data)\n",
    "    labels = [-1] * n_points  # Initialize all points as noise (-1)\n",
    "    cluster_id = 0  # Cluster counter\n",
    "\n",
    "    for point_idx in range(n_points):\n",
    "        # Skip if already labeled\n",
    "        if labels[point_idx] != -1:\n",
    "            continue\n",
    "        \n",
    "        # Find neighbors\n",
    "        neighbors = find_neighbors(data, point_idx, eps)\n",
    "        \n",
    "        # Check if it's a core point\n",
    "        if len(neighbors) < min_pts:\n",
    "            labels[point_idx] = -1  # Mark as noise\n",
    "            continue\n",
    "        \n",
    "        # Expand the cluster\n",
    "        labels[point_idx] = cluster_id\n",
    "        i = 0\n",
    "        while i < len(neighbors):\n",
    "            neighbor_idx = neighbors[i]\n",
    "            \n",
    "            # If neighbor is noise, include it in the cluster\n",
    "            if labels[neighbor_idx] == -1:\n",
    "                labels[neighbor_idx] = cluster_id\n",
    "            \n",
    "            # Skip if already labeled\n",
    "            if labels[neighbor_idx] != -1:\n",
    "                i += 1\n",
    "                continue\n",
    "            \n",
    "            # Add this point to the cluster\n",
    "            labels[neighbor_idx] = cluster_id\n",
    "            \n",
    "            # Expand the neighbors list\n",
    "            new_neighbors = find_neighbors(data, neighbor_idx, eps)\n",
    "            if len(new_neighbors) >= min_pts:\n",
    "                neighbors += new_neighbors\n",
    "            \n",
    "            i += 1\n",
    "        \n",
    "        # Move to the next cluster\n",
    "        cluster_id += 1\n",
    "\n",
    "    return labels\n"
   ]
  },
  {
   "cell_type": "markdown",
   "metadata": {},
   "source": [
    "## Applying DBSCAN Algorithm\n",
    "\n",
    "Using the chosen `eps` and `min_pts` values, we apply DBSCAN to cluster earthquake locations. Noise points will be identified as outliers."
   ]
  },
  {
   "cell_type": "code",
   "execution_count": 50,
   "metadata": {},
   "outputs": [
    {
     "data": {
      "text/plain": [
       "array([[ 0.        , 40.85159885, 39.97317577, ...,  2.61769675,\n",
       "        14.95277954, 14.68845872],\n",
       "       [40.85159885,  0.        , 44.26308292, ..., 43.31042911,\n",
       "        30.80659273, 53.77328452],\n",
       "       [39.97317577, 44.26308292,  0.        , ..., 41.84287595,\n",
       "        46.34545297, 52.85336573],\n",
       "       ...,\n",
       "       [ 2.61769675, 43.31042911, 41.84287595, ...,  0.        ,\n",
       "        16.41411226, 12.14334915],\n",
       "       [14.95277954, 30.80659273, 46.34545297, ..., 16.41411226,\n",
       "         0.        , 23.91891234],\n",
       "       [14.68845872, 53.77328452, 52.85336573, ..., 12.14334915,\n",
       "        23.91891234,  0.        ]])"
      ]
     },
     "execution_count": 50,
     "metadata": {},
     "output_type": "execute_result"
    }
   ],
   "source": [
    "# Compute pairwise distances\n",
    "from scipy.spatial.distance import pdist, squareform\n",
    "distance_matrix = squareform(pdist(coordinates))\n",
    "\n",
    "distance_matrix\n"
   ]
  },
  {
   "cell_type": "code",
   "execution_count": 51,
   "metadata": {},
   "outputs": [],
   "source": [
    "# Set parameters\n",
    "eps = 50  # Radius\n",
    "min_pts = 5  # Minimum number of points in a neighborhood\n",
    "\n",
    "# Apply DBSCAN\n",
    "labels = dbscan(coordinates, eps, min_pts)\n",
    "\n",
    "# Add the cluster labels back to the DataFrame\n",
    "df['cluster'] = labels\n"
   ]
  },
  {
   "cell_type": "markdown",
   "metadata": {},
   "source": [
    "## Visualizing Clusters\n",
    "\n",
    "The results of the DBSCAN clustering are visualized using a scatter plot. Each cluster is represented with a unique color, and noise points are marked in black."
   ]
  },
  {
   "cell_type": "code",
   "execution_count": 52,
   "metadata": {},
   "outputs": [
    {
     "data": {
      "image/png": "[encoded data removed]",
      "text/plain": [
       "<Figure size 800x400 with 1 Axes>"
      ]
     },
     "metadata": {},
     "output_type": "display_data"
    }
   ],
   "source": [
    "plt.figure(figsize=(8, 4))\n",
    "for cluster_id in set(labels):\n",
    "    if cluster_id == -1:  # Noise points\n",
    "        color = 'k'\n",
    "        label = 'Noise'\n",
    "    else:\n",
    "        color = plt.cm.rainbow(cluster_id / len(set(labels)))\n",
    "        label = f'Cluster {cluster_id}'\n",
    "    \n",
    "    plt.scatter(\n",
    "        df.loc[df['cluster'] == cluster_id, 'longitude'],\n",
    "        df.loc[df['cluster'] == cluster_id, 'latitude'],\n",
    "        c=[color],\n",
    "        label=label\n",
    "    )\n",
    "\n",
    "# Add labels and title\n",
    "plt.xlabel('Longitude')\n",
    "plt.ylabel('Latitude')\n",
    "plt.title('DBSCAN Clustering of Earthquakes')\n",
    "\n",
    "# Move the legend outside the plot\n",
    "plt.legend(loc='upper left', bbox_to_anchor=(1.05, 1), title=\"Clusters\")\n",
    "\n",
    "# Adjust layout to accommodate legend\n",
    "plt.tight_layout()\n",
    "\n",
    "# Show the plot\n",
    "plt.show()\n"
   ]
  },
  {
   "cell_type": "markdown",
   "metadata": {},
   "source": [
    "## Conclusions\n",
    "\n",
    "- The DBSCAN algorithm successfully grouped earthquake locations into clusters based on proximity.\n",
    "- Noise points, or  outliers, were identified where density was insufficient to form a cluster.\n"
   ]
  },
  {
   "cell_type": "code",
   "execution_count": 54,
   "metadata": {},
   "outputs": [
    {
     "ename": "AttributeError",
     "evalue": "The geopandas.dataset has been deprecated and was removed in GeoPandas 1.0. You can get the original 'naturalearth_lowres' data from https://www.naturalearthdata.com/downloads/110m-cultural-vectors/.",
     "output_type": "error",
     "traceback": [
      "\u001b[0;31m---------------------------------------------------------------------------\u001b[0m",
      "\u001b[0;31mAttributeError\u001b[0m                            Traceback (most recent call last)",
      "Cell \u001b[0;32mIn[54], line 2\u001b[0m\n\u001b[1;32m      1\u001b[0m \u001b[38;5;66;03m# Load a world map\u001b[39;00m\n\u001b[0;32m----> 2\u001b[0m world \u001b[38;5;241m=\u001b[39m gpd\u001b[38;5;241m.\u001b[39mread_file(\u001b[43mgpd\u001b[49m\u001b[38;5;241;43m.\u001b[39;49m\u001b[43mdatasets\u001b[49m\u001b[38;5;241;43m.\u001b[39;49m\u001b[43mget_path\u001b[49m\u001b[43m(\u001b[49m\u001b[38;5;124;43m'\u001b[39;49m\u001b[38;5;124;43mnaturalearth_lowres\u001b[39;49m\u001b[38;5;124;43m'\u001b[39;49m\u001b[43m)\u001b[49m)\n",
      "File \u001b[0;32m~/Documents/INDE_577/venv/lib/python3.12/site-packages/geopandas/datasets/__init__.py:18\u001b[0m, in \u001b[0;36mget_path\u001b[0;34m(dataset)\u001b[0m\n\u001b[1;32m     12\u001b[0m error_msg \u001b[38;5;241m=\u001b[39m (\n\u001b[1;32m     13\u001b[0m     \u001b[38;5;124m\"\u001b[39m\u001b[38;5;124mThe geopandas.dataset has been deprecated and was removed in GeoPandas \u001b[39m\u001b[38;5;124m\"\u001b[39m\n\u001b[1;32m     14\u001b[0m     \u001b[38;5;124mf\u001b[39m\u001b[38;5;124m\"\u001b[39m\u001b[38;5;124m1.0. You can get the original \u001b[39m\u001b[38;5;124m'\u001b[39m\u001b[38;5;132;01m{\u001b[39;00mdataset\u001b[38;5;132;01m}\u001b[39;00m\u001b[38;5;124m'\u001b[39m\u001b[38;5;124m data from \u001b[39m\u001b[38;5;124m\"\u001b[39m\n\u001b[1;32m     15\u001b[0m     \u001b[38;5;124mf\u001b[39m\u001b[38;5;124m\"\u001b[39m\u001b[38;5;132;01m{\u001b[39;00mne_message\u001b[38;5;250m \u001b[39m\u001b[38;5;28;01mif\u001b[39;00m\u001b[38;5;250m \u001b[39m\u001b[38;5;124m'\u001b[39m\u001b[38;5;124mnatural\u001b[39m\u001b[38;5;124m'\u001b[39m\u001b[38;5;250m \u001b[39m\u001b[38;5;129;01min\u001b[39;00m\u001b[38;5;250m \u001b[39mdataset\u001b[38;5;250m \u001b[39m\u001b[38;5;28;01melse\u001b[39;00m\u001b[38;5;250m \u001b[39mnybb_message\u001b[38;5;132;01m}\u001b[39;00m\u001b[38;5;124m\"\u001b[39m\n\u001b[1;32m     16\u001b[0m )\n\u001b[1;32m     17\u001b[0m \u001b[38;5;28;01mif\u001b[39;00m dataset \u001b[38;5;129;01min\u001b[39;00m _prev_available:\n\u001b[0;32m---> 18\u001b[0m     \u001b[38;5;28;01mraise\u001b[39;00m \u001b[38;5;167;01mAttributeError\u001b[39;00m(error_msg)\n\u001b[1;32m     19\u001b[0m \u001b[38;5;28;01melse\u001b[39;00m:\n\u001b[1;32m     20\u001b[0m     error_msg \u001b[38;5;241m=\u001b[39m (\n\u001b[1;32m     21\u001b[0m         \u001b[38;5;124m\"\u001b[39m\u001b[38;5;124mThe geopandas.dataset has been deprecated and \u001b[39m\u001b[38;5;124m\"\u001b[39m\n\u001b[1;32m     22\u001b[0m         \u001b[38;5;124m\"\u001b[39m\u001b[38;5;124mwas removed in GeoPandas 1.0. New sample datasets are now available \u001b[39m\u001b[38;5;124m\"\u001b[39m\n\u001b[1;32m     23\u001b[0m         \u001b[38;5;124m\"\u001b[39m\u001b[38;5;124min the geodatasets package (https://geodatasets.readthedocs.io/en/latest/)\u001b[39m\u001b[38;5;124m\"\u001b[39m\n\u001b[1;32m     24\u001b[0m     )\n",
      "\u001b[0;31mAttributeError\u001b[0m: The geopandas.dataset has been deprecated and was removed in GeoPandas 1.0. You can get the original 'naturalearth_lowres' data from https://www.naturalearthdata.com/downloads/110m-cultural-vectors/."
     ]
    }
   ],
   "source": [
    "# Load a world map\n",
    "world = gpd.read_file(gpd.datasets.get_path('naturalearth_lowres'))"
   ]
  },
  {
   "cell_type": "code",
   "execution_count": 53,
   "metadata": {},
   "outputs": [],
   "source": [
    "from geopandas import GeoDataFrame\n",
    "from shapely.geometry import Point"
   ]
  },
  {
   "cell_type": "code",
   "execution_count": null,
   "metadata": {},
   "outputs": [],
   "source": []
  }
 ],
 "metadata": {
  "kernelspec": {
   "display_name": "venv",
   "language": "python",
   "name": "python3"
  },
  "language_info": {
   "codemirror_mode": {
    "name": "ipython",
    "version": 3
   },
   "file_extension": ".py",
   "mimetype": "text/x-python",
   "name": "python",
   "nbconvert_exporter": "python",
   "pygments_lexer": "ipython3",
   "version": "3.12.0"
  }
 },
 "nbformat": 4,
 "nbformat_minor": 2
}
