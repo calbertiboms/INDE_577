{
 "cells": [
  {
   "cell_type": "markdown",
   "metadata": {},
   "source": [
    "# Logistic Regression\n",
    "This notebook explores logistic regression to predict shipment delays using a supply chain logistics dataset.\n",
    "\n",
    "Objectives:\n",
    "Preprocess the dataset for machine learning.\n",
    "Implement logistic regression using sklearn and a custom implementation.\n",
    "Evaluate the models' performance.\n",
    "Compare different approaches for feature selection and model evaluation."
   ]
  },
  {
   "cell_type": "code",
   "execution_count": 3,
   "metadata": {},
   "outputs": [],
   "source": [
    "import pandas as pd\n",
    "import numpy as np\n",
    "import plotly.express as px\n",
    "from sklearn.model_selection import train_test_split\n",
    "from sklearn.metrics import classification_report, confusion_matrix\n",
    "from sklearn.decomposition import PCA\n",
    "from imblearn.over_sampling import SMOTE\n",
    "from sklearn.utils import shuffle"
   ]
  },
  {
   "cell_type": "markdown",
   "metadata": {},
   "source": [
    "## 1. Data loading\n",
    "We will load the dataset and perform a preliminary check for missing values or inconsistencies."
   ]
  },
  {
   "cell_type": "code",
   "execution_count": 4,
   "metadata": {},
   "outputs": [
    {
     "data": {
      "text/html": [
       "<div>\n",
       "<style scoped>\n",
       "    .dataframe tbody tr th:only-of-type {\n",
       "        vertical-align: middle;\n",
       "    }\n",
       "\n",
       "    .dataframe tbody tr th {\n",
       "        vertical-align: top;\n",
       "    }\n",
       "\n",
       "    .dataframe thead th {\n",
       "        text-align: right;\n",
       "    }\n",
       "</style>\n",
       "<table border=\"1\" class=\"dataframe\">\n",
       "  <thead>\n",
       "    <tr style=\"text-align: right;\">\n",
       "      <th></th>\n",
       "      <th>Order ID</th>\n",
       "      <th>Order Date</th>\n",
       "      <th>Origin Port</th>\n",
       "      <th>Carrier</th>\n",
       "      <th>TPT</th>\n",
       "      <th>Service Level</th>\n",
       "      <th>Ship ahead day count</th>\n",
       "      <th>Ship Late Day count</th>\n",
       "      <th>Customer</th>\n",
       "      <th>Product ID</th>\n",
       "      <th>Plant Code</th>\n",
       "      <th>Destination Port</th>\n",
       "      <th>Unit quantity</th>\n",
       "      <th>Weight</th>\n",
       "    </tr>\n",
       "  </thead>\n",
       "  <tbody>\n",
       "    <tr>\n",
       "      <th>0</th>\n",
       "      <td>1.447296e+09</td>\n",
       "      <td>2013-05-26</td>\n",
       "      <td>PORT09</td>\n",
       "      <td>V44_3</td>\n",
       "      <td>1</td>\n",
       "      <td>CRF</td>\n",
       "      <td>3</td>\n",
       "      <td>0</td>\n",
       "      <td>V55555_53</td>\n",
       "      <td>1700106</td>\n",
       "      <td>PLANT16</td>\n",
       "      <td>PORT09</td>\n",
       "      <td>808</td>\n",
       "      <td>14.30</td>\n",
       "    </tr>\n",
       "    <tr>\n",
       "      <th>1</th>\n",
       "      <td>1.447158e+09</td>\n",
       "      <td>2013-05-26</td>\n",
       "      <td>PORT09</td>\n",
       "      <td>V44_3</td>\n",
       "      <td>1</td>\n",
       "      <td>CRF</td>\n",
       "      <td>3</td>\n",
       "      <td>0</td>\n",
       "      <td>V55555_53</td>\n",
       "      <td>1700106</td>\n",
       "      <td>PLANT16</td>\n",
       "      <td>PORT09</td>\n",
       "      <td>3188</td>\n",
       "      <td>87.94</td>\n",
       "    </tr>\n",
       "    <tr>\n",
       "      <th>2</th>\n",
       "      <td>1.447139e+09</td>\n",
       "      <td>2013-05-26</td>\n",
       "      <td>PORT09</td>\n",
       "      <td>V44_3</td>\n",
       "      <td>1</td>\n",
       "      <td>CRF</td>\n",
       "      <td>3</td>\n",
       "      <td>0</td>\n",
       "      <td>V55555_53</td>\n",
       "      <td>1700106</td>\n",
       "      <td>PLANT16</td>\n",
       "      <td>PORT09</td>\n",
       "      <td>2331</td>\n",
       "      <td>61.20</td>\n",
       "    </tr>\n",
       "    <tr>\n",
       "      <th>3</th>\n",
       "      <td>1.447364e+09</td>\n",
       "      <td>2013-05-26</td>\n",
       "      <td>PORT09</td>\n",
       "      <td>V44_3</td>\n",
       "      <td>1</td>\n",
       "      <td>CRF</td>\n",
       "      <td>3</td>\n",
       "      <td>0</td>\n",
       "      <td>V55555_53</td>\n",
       "      <td>1700106</td>\n",
       "      <td>PLANT16</td>\n",
       "      <td>PORT09</td>\n",
       "      <td>847</td>\n",
       "      <td>16.16</td>\n",
       "    </tr>\n",
       "    <tr>\n",
       "      <th>4</th>\n",
       "      <td>1.447364e+09</td>\n",
       "      <td>2013-05-26</td>\n",
       "      <td>PORT09</td>\n",
       "      <td>V44_3</td>\n",
       "      <td>1</td>\n",
       "      <td>CRF</td>\n",
       "      <td>3</td>\n",
       "      <td>0</td>\n",
       "      <td>V55555_53</td>\n",
       "      <td>1700106</td>\n",
       "      <td>PLANT16</td>\n",
       "      <td>PORT09</td>\n",
       "      <td>2163</td>\n",
       "      <td>52.34</td>\n",
       "    </tr>\n",
       "  </tbody>\n",
       "</table>\n",
       "</div>"
      ],
      "text/plain": [
       "       Order ID Order Date Origin Port Carrier  TPT Service Level  \\\n",
       "0  1.447296e+09 2013-05-26      PORT09   V44_3    1           CRF   \n",
       "1  1.447158e+09 2013-05-26      PORT09   V44_3    1           CRF   \n",
       "2  1.447139e+09 2013-05-26      PORT09   V44_3    1           CRF   \n",
       "3  1.447364e+09 2013-05-26      PORT09   V44_3    1           CRF   \n",
       "4  1.447364e+09 2013-05-26      PORT09   V44_3    1           CRF   \n",
       "\n",
       "   Ship ahead day count  Ship Late Day count   Customer  Product ID  \\\n",
       "0                     3                    0  V55555_53     1700106   \n",
       "1                     3                    0  V55555_53     1700106   \n",
       "2                     3                    0  V55555_53     1700106   \n",
       "3                     3                    0  V55555_53     1700106   \n",
       "4                     3                    0  V55555_53     1700106   \n",
       "\n",
       "  Plant Code Destination Port  Unit quantity  Weight  \n",
       "0    PLANT16           PORT09            808   14.30  \n",
       "1    PLANT16           PORT09           3188   87.94  \n",
       "2    PLANT16           PORT09           2331   61.20  \n",
       "3    PLANT16           PORT09            847   16.16  \n",
       "4    PLANT16           PORT09           2163   52.34  "
      ]
     },
     "execution_count": 4,
     "metadata": {},
     "output_type": "execute_result"
    }
   ],
   "source": [
    "# Load the dataset\n",
    "file_path = '/Users/ceciliaalberti/Documents/INDE_577/datasets/Supply chain logisitcs problem.xlsx'\n",
    "df = pd.read_excel(file_path)\n",
    "df.head()"
   ]
  },
  {
   "cell_type": "markdown",
   "metadata": {},
   "source": [
    "## 2. Data preprocessing\n",
    "This section handles:\n",
    "\n",
    "1. Creating the target variable.\n",
    "2. Selecting features and target.\n",
    "3. Scaling numerical features\n",
    "4. Encoding categorical features."
   ]
  },
  {
   "cell_type": "code",
   "execution_count": 12,
   "metadata": {},
   "outputs": [
    {
     "data": {
      "text/plain": [
       "<bound method DataFrame.info of           Order ID Order Date Origin Port Carrier  TPT Service Level  \\\n",
       "0     1.447296e+09 2013-05-26      PORT09   V44_3    1           CRF   \n",
       "1     1.447158e+09 2013-05-26      PORT09   V44_3    1           CRF   \n",
       "2     1.447139e+09 2013-05-26      PORT09   V44_3    1           CRF   \n",
       "3     1.447364e+09 2013-05-26      PORT09   V44_3    1           CRF   \n",
       "4     1.447364e+09 2013-05-26      PORT09   V44_3    1           CRF   \n",
       "...            ...        ...         ...     ...  ...           ...   \n",
       "9210  1.447305e+09 2013-05-26      PORT04  V444_1    1           DTD   \n",
       "9211  1.447319e+09 2013-05-26      PORT04  V444_1    1           DTD   \n",
       "9212  1.447322e+09 2013-05-26      PORT04  V444_1    1           DTD   \n",
       "9213  1.447145e+09 2013-05-26      PORT04  V444_1    1           DTD   \n",
       "9214  1.447328e+09 2013-05-26      PORT04  V444_1    1           DTD   \n",
       "\n",
       "   Ship ahead day count  Ship Late Day count   Customer  Product ID  \\\n",
       "0                     3                    0  V55555_53     1700106   \n",
       "1                     3                    0  V55555_53     1700106   \n",
       "2                     3                    0  V55555_53     1700106   \n",
       "3                     3                    0  V55555_53     1700106   \n",
       "4                     3                    0  V55555_53     1700106   \n",
       "\n",
       "      Product ID Plant Code Destination Port  Unit quantity     Weight  \\\n",
       "0        1700106    PLANT16           PORT09            808  14.300000   \n",
       "1        1700106    PLANT16           PORT09           3188  87.940000   \n",
       "2        1700106    PLANT16           PORT09           2331  61.200000   \n",
       "3        1700106    PLANT16           PORT09            847  16.160000   \n",
       "4        1700106    PLANT16           PORT09           2163  52.340000   \n",
       "...          ...        ...              ...            ...        ...   \n",
       "9210     1683388    PLANT03           PORT09            339   2.354118   \n",
       "9211     1683388    PLANT03           PORT09            339   2.354118   \n",
       "9212     1683388    PLANT03           PORT09            245   0.294265   \n",
       "9213     1683430    PLANT03           PORT09            278   2.480000   \n",
       "9214     1683424    PLANT03           PORT09            317   1.960000   \n",
       "\n",
       "      Delayed  \n",
       "0           0  \n",
       "1           0  \n",
       "2           0  \n",
       "3           0  \n",
       "4           0  \n",
       "...       ...  \n",
       "9210        0  \n",
       "9211        0  \n",
       "9212        0  \n",
       "9213        0  \n",
       "9214        0  \n",
       "\n",
       "[9215 rows x 15 columns]>"
      ]
     },
     "execution_count": 12,
     "metadata": {},
     "output_type": "execute_result"
    }
   ],
   "source": [
    "df.info"
   ]
  },
  {
   "cell_type": "code",
   "execution_count": 9,
   "metadata": {},
   "outputs": [],
   "source": [
    "# Create the target column: 1 for delayed shipments, 0 for on-time shipments\n",
    "df['Delayed'] = df['Ship Late Day count'].apply(lambda x: 1 if x > 0 else 0)\n",
    "\n",
    "# Select features and target\n",
    "features = ['Origin Port', 'Carrier', 'Ship ahead day count', 'Origin Port', 'Plant Code', 'Destination Port', 'Weight']\n",
    "X = df[features]\n",
    "y = df['Delayed']\n"
   ]
  },
  {
   "cell_type": "code",
   "execution_count": 10,
   "metadata": {},
   "outputs": [],
   "source": [
    "def standard_scaler(X, cols_to_scale):\n",
    "    X_scaled = X.copy()\n",
    "    for col in cols_to_scale:\n",
    "        mean = X[col].mean()  # Calculate mean\n",
    "        std = X[col].std()    # Calculate standard deviation\n",
    "        X_scaled[col] = (X[col] - mean) / std  \n",
    "    return X_scaled"
   ]
  },
  {
   "cell_type": "code",
   "execution_count": 11,
   "metadata": {},
   "outputs": [],
   "source": [
    "# Identify numerical features to scale\n",
    "numerical_features = ['Ship ahead day count', 'Weight']\n",
    "\n",
    "# Apply manual scaling to numerical features\n",
    "X_scaled = standard_scaler(X, numerical_features)\n",
    "\n",
    "# Encode categorical features (leave scaled numerical features unchanged)\n",
    "X_encoded = pd.get_dummies(X_scaled, columns=['Origin Port', 'Carrier', 'Plant Code', 'Destination Port'], drop_first=True)"
   ]
  },
  {
   "cell_type": "markdown",
   "metadata": {},
   "source": [
    "## 2. Custom Logistic Regression Implementation\n",
    "We implement logistic regression from scratch using gradient descent for better understanding."
   ]
  },
  {
   "cell_type": "code",
   "execution_count": 13,
   "metadata": {},
   "outputs": [],
   "source": [
    "class GradientDescentLogisticReg:\n",
    "    def __init__(self) -> None:\n",
    "        self.X = None\n",
    "        self.variables = None\n",
    "        self.y = None\n",
    "        self.predictor = None\n",
    "        self.n = None\n",
    "        self.p = None\n",
    "        self.bias = None\n",
    "        self.gamma = None\n",
    "        self.max_iter = None\n",
    "        self.eta = None\n",
    "        self.weights = None\n",
    "        self.weights_history = []\n",
    "        self.loss_history = [np.inf]\n",
    "\n",
    "    # Cross entropy loss for one data point\n",
    "    def cross_entropy_loss(self, y, y_hat):\n",
    "        epsilon = 1e-10  # Small value to avoid log(0)\n",
    "        y_hat = np.clip(y_hat, epsilon, 1 - epsilon)  # Clip y_hat to avoid extreme values\n",
    "        return -y * np.log(y_hat) - (1.0 - y) * np.log(1.0 - y_hat)\n",
    "\n",
    "    # Total cross entropy loss\n",
    "    def loss(self):\n",
    "        total_loss = sum(self.cross_entropy_loss(self.y[i], self.sigmoid(x @ self.weights))\n",
    "                         for i, x in enumerate(self.X))\n",
    "        return total_loss\n",
    "\n",
    "    # Sigmoid function\n",
    "    def sigmoid(self, z):\n",
    "        # Clip the input values to avoid extremely large values that cause overflow\n",
    "        z = np.clip(z, -500, 500)\n",
    "        return 1.0 / (1.0 + np.exp(-z))\n",
    "\n",
    "    # Gradient of the loss function\n",
    "    def gradient_L(self):\n",
    "        sigmoids = np.array([self.sigmoid(x @ self.weights) - self.y[i] for i, x in enumerate(self.X)])\n",
    "        d_w = sigmoids @ self.X\n",
    "        return d_w\n",
    "\n",
    "    # Model fitting with gradient descent\n",
    "    def fit(self, X, y, bias=True, gamma=0.01, max_iter=1000, eta=0.001, patience=10):\n",
    "        self.variables = X.columns\n",
    "        self.predictor = y.name\n",
    "\n",
    "        X = X.to_numpy()\n",
    "        y = y.to_numpy()\n",
    "        if bias:\n",
    "            ones_column = np.ones((X.shape[0], 1))\n",
    "            X = np.append(ones_column, X, axis=1)\n",
    "        self.X = X\n",
    "        self.y = y\n",
    "        self.n = X.shape[0]\n",
    "        self.p = X.shape[1]\n",
    "        self.bias = bias\n",
    "        self.gamma = gamma\n",
    "        self.max_iter = max_iter\n",
    "        self.eta = eta\n",
    "\n",
    "        weights = np.random.rand(self.p) * 0.01  # Initialize weights small but non-zero\n",
    "        self.weights = weights\n",
    "        self.weights_history.append(weights)\n",
    "\n",
    "        patience_counter = 0\n",
    "\n",
    "        for i in range(1, max_iter + 1):\n",
    "            dw = self.gradient_L()\n",
    "            weights = weights - gamma * dw\n",
    "            self.weights = weights\n",
    "            self.weights_history.append(weights)\n",
    "            L = self.loss()\n",
    "            self.loss_history.append(L)\n",
    "\n",
    "            # Print weights every 100 iterations for debugging\n",
    "            if i % 100 == 0:\n",
    "                print(f\"Iteration {i}: Loss = {L}, Weights = {self.weights[:5]}...\")\n",
    "\n",
    "            # Adaptive learning rate (reduce gamma if loss does not decrease sufficiently)\n",
    "            if i > 1 and L > self.loss_history[i - 1]:\n",
    "                gamma *= 0.9  # Reduce learning rate by 10% if loss increases\n",
    "\n",
    "            # Early stopping with patience\n",
    "            if i > 1 and abs(L - self.loss_history[i - 1]) <= self.eta:\n",
    "                patience_counter += 1\n",
    "                if patience_counter >= patience:\n",
    "                    print(f\"Stopping early at iteration {i}\")\n",
    "                    break\n",
    "            else:\n",
    "                patience_counter = 0\n",
    "\n",
    "    # Predict new data\n",
    "    def prediction(self, X, weights=None):\n",
    "        if weights is None:\n",
    "            weights = self.weights\n",
    "\n",
    "        X = X.to_numpy()\n",
    "        if self.bias:\n",
    "            ones_column = np.ones((X.shape[0], 1))\n",
    "            X = np.append(ones_column, X, axis=1)\n",
    "\n",
    "        labels = np.array([1, 0])\n",
    "        y_hat = [self.sigmoid(x @ weights) for x in X]\n",
    "        return [np.random.choice(labels, p=[y_hat_i, 1.0 - y_hat_i]) for y_hat_i in y_hat]\n",
    "    \n",
    "    # Calculate accuracy\n",
    "    def accuracy(self, y_true, y_pred):\n",
    "        correct_predictions = sum(y_true == y_pred)  # Count correct predictions\n",
    "        total_predictions = len(y_true)             # Total number of predictions\n",
    "        accuracy = correct_predictions / total_predictions\n",
    "        return accuracy"
   ]
  },
  {
   "cell_type": "markdown",
   "metadata": {},
   "source": [
    "### Downsampling"
   ]
  },
  {
   "cell_type": "code",
   "execution_count": 27,
   "metadata": {},
   "outputs": [],
   "source": [
    "# Downsample the majority class (shipments NOT delayed, target 0) to 1000 data points\n",
    "majority_class = X_encoded[y == 0]\n",
    "minority_class = X_encoded[y == 1]\n",
    "y_majority = y[y == 0]\n",
    "y_minority = y[y == 1]\n",
    "\n",
    "majority_downsampled = majority_class.sample(n=1000, random_state=42)\n",
    "y_majority_downsampled = y_majority.sample(n=1000, random_state=42)\n",
    "\n",
    "X_downsampled = pd.concat([majority_downsampled, minority_class]).reset_index(drop=True)\n",
    "y_downsampled = pd.concat([y_majority_downsampled, y_minority]).reset_index(drop=True)\n",
    "\n",
    "# Shuffle the downsampled dataset\n",
    "X_downsampled, y_downsampled = shuffle(X_downsampled, y_downsampled, random_state=42)"
   ]
  },
  {
   "cell_type": "markdown",
   "metadata": {},
   "source": [
    "### SMOTE"
   ]
  },
  {
   "cell_type": "code",
   "execution_count": 28,
   "metadata": {},
   "outputs": [],
   "source": [
    "# Apply SMOTE\n",
    "smote = SMOTE(random_state=42)\n",
    "X_resampled, y_resampled = smote.fit_resample(X_encoded, y)"
   ]
  },
  {
   "cell_type": "markdown",
   "metadata": {},
   "source": [
    "### Downsampling + PCA"
   ]
  },
  {
   "cell_type": "code",
   "execution_count": 29,
   "metadata": {},
   "outputs": [],
   "source": [
    "# Apply PCA for dimensionality reduction\n",
    "pca = PCA(n_components=0.9)  # Retain 90% of the variance\n",
    "X_pca_downsampling = pca.fit_transform(X_downsampled)"
   ]
  },
  {
   "cell_type": "markdown",
   "metadata": {},
   "source": [
    "### SMOTE + PCA"
   ]
  },
  {
   "cell_type": "code",
   "execution_count": 30,
   "metadata": {},
   "outputs": [],
   "source": [
    "# Apply PCA for dimensionality reduction\n",
    "pca = PCA(n_components=0.9)  # Retain 90% of the variance\n",
    "X_pca_smote = pca.fit_transform(X_resampled)"
   ]
  },
  {
   "cell_type": "markdown",
   "metadata": {},
   "source": [
    "## 4. Model Training and Evaluation\n",
    "We train the model and evaluate its performance using accuracy, classification report and confusion matrix. We will perform the model under different circumstances:\n",
    "1. With downsampled data for the majority class\n",
    "2. With SMOTE\n",
    "3. With downsampling + PCA\n",
    "4. With SMOTE + PCA"
   ]
  },
  {
   "cell_type": "markdown",
   "metadata": {},
   "source": [
    "### Downsampling results"
   ]
  },
  {
   "cell_type": "code",
   "execution_count": 31,
   "metadata": {},
   "outputs": [
    {
     "name": "stdout",
     "output_type": "stream",
     "text": [
      "Iteration 100: Loss = 376.8161626612966, Weights = [-1.591396534592121 0.8142054052232357 -0.3710690083416482\n",
      " 0.0028314030903280043 -0.9332829132874453]...\n",
      "Iteration 200: Loss = 376.1443931838316, Weights = [-1.586093584127645 0.8197649550383693 -0.6923369394938117\n",
      " 0.0028314030903280043 -1.2736020109283723]...\n",
      "Iteration 300: Loss = 375.8412381650964, Weights = [-1.5832448211390822 0.8220700701321326 -0.9974842764099426\n",
      " 0.0028314030903280043 -1.5142285230564487]...\n",
      "Iteration 400: Loss = 375.64335901538794, Weights = [-1.5811041630510634 0.8236241720742584 -1.2897340150060108\n",
      " 0.0028314030903280043 -1.7042377983016141]...\n",
      "Iteration 500: Loss = 375.4934835626414, Weights = [-1.5792943584041677 0.8248275469739154 -1.5706546980622638\n",
      " 0.0028314030903280043 -1.8622862510191343]...\n",
      "Iteration 600: Loss = 375.37103616975594, Weights = [-1.5776809918341166 0.825824876377366 -1.8413574468417957\n",
      " 0.0028314030903280043 -1.997971678390136]...\n",
      "Stopping early at iteration 691\n",
      "Accuracy of Gradient Descent Logistic Regression Model: 0.698744769874477\n",
      "Classification Report:\n",
      "              precision    recall  f1-score   support\n",
      "\n",
      "           0       0.81      0.83      0.82       197\n",
      "           1       0.11      0.10      0.10        42\n",
      "\n",
      "    accuracy                           0.70       239\n",
      "   macro avg       0.46      0.46      0.46       239\n",
      "weighted avg       0.69      0.70      0.69       239\n",
      "\n",
      "Confusion Matrix:\n",
      "[[163  34]\n",
      " [ 38   4]]\n"
     ]
    }
   ],
   "source": [
    "# Split the resampled dataset into training and testing sets\n",
    "# The dataset is split into training and testing sets to evaluate the model.\n",
    "X_train, X_test, y_train, y_test = train_test_split(X_downsampled, y_downsampled, test_size=0.2, random_state=42)\n",
    "\n",
    "# Fit the custom logistic regression model\n",
    "# The model is fitted using the training data. Gradient descent is used to optimize the model parameters.\n",
    "gd_log_reg = GradientDescentLogisticReg()\n",
    "gd_log_reg.fit(pd.DataFrame(X_train), pd.Series(y_train), gamma=0.01, max_iter=1000, eta=0.001)\n",
    "\n",
    "# Predict the test set\n",
    "# Predictions are made for the test set using the fitted model.\n",
    "y_pred = gd_log_reg.prediction(pd.DataFrame(X_test))\n",
    "\n",
    "# Calculate accuracy\n",
    "# The accuracy of the model on the test set is calculated.\n",
    "accuracy = gd_log_reg.accuracy(y_test, y_pred)\n",
    "print(\"Accuracy of Gradient Descent Logistic Regression Model:\", accuracy)\n",
    "\n",
    "# Classification report and confusion matrix\n",
    "print(\"Classification Report:\")\n",
    "print(classification_report(y_test, y_pred))\n",
    "\n",
    "# Classification report and confusion matrix\n",
    "print(\"Confusion Matrix:\")\n",
    "print(confusion_matrix(y_test, y_pred))"
   ]
  },
  {
   "cell_type": "markdown",
   "metadata": {},
   "source": []
  },
  {
   "cell_type": "markdown",
   "metadata": {},
   "source": [
    "The accuracy is high because class 0 (on-time shipments) dominates, and the model performs well for class 0. However, the recall for class 1 (delayed shipments) is low, meaning that the model struggles to detect delayed shipments. The problem is that the model is biased towards predicting on-time shipments, which indicates that there is stil a class imbalance that is causing the model to perform poorly on the minority class."
   ]
  },
  {
   "cell_type": "markdown",
   "metadata": {},
   "source": [
    "### SMOTE results"
   ]
  },
  {
   "cell_type": "code",
   "execution_count": 32,
   "metadata": {},
   "outputs": [
    {
     "name": "stdout",
     "output_type": "stream",
     "text": [
      "Iteration 100: Loss = 8840.676637539924, Weights = [0.21175171101803553 0.6879588846425251 -2.540405900819591\n",
      " -0.04771488775043425 -6.302437188500938]...\n",
      "Iteration 200: Loss = 8831.910223329374, Weights = [0.17082715981050947 0.6331369855972377 -2.9623580170150725\n",
      " -0.04771488775043772 -6.3067048580115745]...\n",
      "Iteration 300: Loss = 8828.80931897217, Weights = [0.17301536745119658 0.6326493483787606 -3.365185093614477\n",
      " -0.04771488775044119 -6.310922561911428]...\n",
      "Iteration 400: Loss = 8825.975988936469, Weights = [0.17509558232924696 0.632195081436683 -3.750239477794617\n",
      " -0.04771488775044466 -6.315099491275461]...\n",
      "Iteration 500: Loss = 8823.380904495243, Weights = [0.17707512098913353 0.6317711015555056 -4.118748487112882\n",
      " -0.04771488775044813 -6.319238625535772]...\n",
      "Iteration 600: Loss = 8820.998323741345, Weights = [0.17896087959942858 0.6313749435074938 -4.471846190417867\n",
      " -0.0477148877504516 -6.323342506120749]...\n",
      "Iteration 700: Loss = 8818.805714525957, Weights = [0.1807593367144927 0.6310043760226002 -4.810573528260632\n",
      " -0.04771488775045507 -6.32741331761778]...\n",
      "Iteration 800: Loss = 8816.783369158326, Weights = [0.18247651447360644 0.6306573709334174 -5.135882234432726\n",
      " -0.04771488775045854 -6.331452951815154]...\n",
      "Iteration 900: Loss = 8814.914039833558, Weights = [0.1841179720798229 0.6303320802827074 -5.448640769192075\n",
      " -0.04771488775046201 -6.3354630585471154]...\n",
      "Iteration 1000: Loss = 8813.182608395122, Weights = [0.18568881895073422 0.6300268183474516 -5.749641115112062\n",
      " -0.04771488775046548 -6.3394450863169745]...\n",
      "Accuracy of Gradient Descent Logistic Regression Model: 0.5573407202216066\n",
      "Classification Report:\n",
      "              precision    recall  f1-score   support\n",
      "\n",
      "           0       0.56      0.55      0.55      1805\n",
      "           1       0.56      0.57      0.56      1805\n",
      "\n",
      "    accuracy                           0.56      3610\n",
      "   macro avg       0.56      0.56      0.56      3610\n",
      "weighted avg       0.56      0.56      0.56      3610\n",
      "\n",
      "Confusion Matrix:\n",
      "[[ 989  816]\n",
      " [ 782 1023]]\n"
     ]
    }
   ],
   "source": [
    "# Split the resampled dataset into training and testing sets\n",
    "# The dataset is split into training and testing sets to evaluate the model.\n",
    "X_train, X_test, y_train, y_test = train_test_split(X_resampled, y_resampled, test_size=0.2, random_state=42)\n",
    "\n",
    "# Fit the custom logistic regression model\n",
    "# The model is fitted using the training data. Gradient descent is used to optimize the model parameters.\n",
    "gd_log_reg = GradientDescentLogisticReg()\n",
    "gd_log_reg.fit(pd.DataFrame(X_train), pd.Series(y_train), gamma=0.01, max_iter=1000, eta=0.001)\n",
    "\n",
    "# Predict the test set\n",
    "# Predictions are made for the test set using the fitted model.\n",
    "y_pred = gd_log_reg.prediction(pd.DataFrame(X_test))\n",
    "\n",
    "# Calculate accuracy\n",
    "# The accuracy of the model on the test set is calculated.\n",
    "accuracy = gd_log_reg.accuracy(y_test, y_pred)\n",
    "print(\"Accuracy of Gradient Descent Logistic Regression Model:\", accuracy)\n",
    "\n",
    "# Classification report and confusion matrix\n",
    "print(\"Classification Report:\")\n",
    "print(classification_report(y_test, y_pred))\n",
    "\n",
    "# Classification report and confusion matrix\n",
    "print(\"Confusion Matrix:\")\n",
    "print(confusion_matrix(y_test, y_pred))"
   ]
  },
  {
   "cell_type": "markdown",
   "metadata": {},
   "source": [
    "After SMOTE, the dataset is balanced, which theoretically helps with classification. However, it also introduces synthetic examples that might not improve the model’s ability to generalize if the feature relationships are not well captured. This is evident from the balanced but poor performance (precision, recall, F1-score all around 0.57)."
   ]
  },
  {
   "cell_type": "markdown",
   "metadata": {},
   "source": [
    "### Downsampling + PCA results"
   ]
  },
  {
   "cell_type": "code",
   "execution_count": 33,
   "metadata": {},
   "outputs": [
    {
     "name": "stdout",
     "output_type": "stream",
     "text": [
      "Iteration 100: Loss = 376.97875069407684, Weights = [-1.9960998  -1.35619324  0.20439166 -3.57486356]...\n",
      "Iteration 200: Loss = 376.42003569032323, Weights = [-2.05407317 -1.23955009  0.00590188 -4.271005  ]...\n",
      "Iteration 300: Loss = 376.2197876719989, Weights = [-2.08938242 -1.16381854 -0.11648679 -4.6909237 ]...\n",
      "Stopping early at iteration 368\n",
      "Accuracy of Gradient Descent Logistic Regression Model: 0.694560669456067\n",
      "Classification Report:\n",
      "              precision    recall  f1-score   support\n",
      "\n",
      "           0       0.82      0.81      0.81       197\n",
      "           1       0.16      0.17      0.16        42\n",
      "\n",
      "    accuracy                           0.69       239\n",
      "   macro avg       0.49      0.49      0.49       239\n",
      "weighted avg       0.70      0.69      0.70       239\n",
      "\n",
      "Confusion Matrix:\n",
      "[[159  38]\n",
      " [ 35   7]]\n"
     ]
    }
   ],
   "source": [
    "# Split the resampled dataset into training and testing sets\n",
    "# The dataset is split into training and testing sets to evaluate the model.\n",
    "X_train, X_test, y_train, y_test = train_test_split(X_pca_downsampling, y_downsampled, test_size=0.2, random_state=42)\n",
    "\n",
    "# Fit the custom logistic regression model\n",
    "# The model is fitted using the training data. Gradient descent is used to optimize the model parameters.\n",
    "gd_log_reg = GradientDescentLogisticReg()\n",
    "gd_log_reg.fit(pd.DataFrame(X_train), pd.Series(y_train), gamma=0.01, max_iter=1000, eta=0.001)\n",
    "\n",
    "# Predict the test set\n",
    "# Predictions are made for the test set using the fitted model.\n",
    "y_pred = gd_log_reg.prediction(pd.DataFrame(X_test))\n",
    "\n",
    "# Calculate accuracy\n",
    "# The accuracy of the model on the test set is calculated.\n",
    "accuracy = gd_log_reg.accuracy(y_test, y_pred)\n",
    "print(\"Accuracy of Gradient Descent Logistic Regression Model:\", accuracy)\n",
    "\n",
    "# Classification report and confusion matrix\n",
    "print(\"Classification Report:\")\n",
    "print(classification_report(y_test, y_pred))\n",
    "\n",
    "# Classification report and confusion matrix\n",
    "print(\"Confusion Matrix:\")\n",
    "print(confusion_matrix(y_test, y_pred))"
   ]
  },
  {
   "cell_type": "markdown",
   "metadata": {},
   "source": [
    "### SMOTE + PCA results"
   ]
  },
  {
   "cell_type": "code",
   "execution_count": 34,
   "metadata": {},
   "outputs": [
    {
     "name": "stdout",
     "output_type": "stream",
     "text": [
      "Iteration 100: Loss = 8855.44145628098, Weights = [ -1.16266185   0.40878424  -1.16586515 -25.97639856]...\n",
      "Stopping early at iteration 109\n",
      "Accuracy of Gradient Descent Logistic Regression Model: 0.5681440443213296\n",
      "Classification Report:\n",
      "              precision    recall  f1-score   support\n",
      "\n",
      "           0       0.57      0.57      0.57      1805\n",
      "           1       0.57      0.57      0.57      1805\n",
      "\n",
      "    accuracy                           0.57      3610\n",
      "   macro avg       0.57      0.57      0.57      3610\n",
      "weighted avg       0.57      0.57      0.57      3610\n",
      "\n",
      "Confusion Matrix:\n",
      "[[1026  779]\n",
      " [ 780 1025]]\n"
     ]
    }
   ],
   "source": [
    "# Split the resampled dataset into training and testing sets\n",
    "# The dataset is split into training and testing sets to evaluate the model.\n",
    "X_train, X_test, y_train, y_test = train_test_split(X_pca_smote, y_resampled, test_size=0.2, random_state=42)\n",
    "\n",
    "# Fit the custom logistic regression model\n",
    "# The model is fitted using the training data. Gradient descent is used to optimize the model parameters.\n",
    "gd_log_reg = GradientDescentLogisticReg()\n",
    "gd_log_reg.fit(pd.DataFrame(X_train), pd.Series(y_train), gamma=0.01, max_iter=1000, eta=0.001)\n",
    "\n",
    "# Predict the test set\n",
    "# Predictions are made for the test set using the fitted model.\n",
    "y_pred = gd_log_reg.prediction(pd.DataFrame(X_test))\n",
    "\n",
    "# Calculate accuracy\n",
    "# The accuracy of the model on the test set is calculated.\n",
    "accuracy = gd_log_reg.accuracy(y_test, y_pred)\n",
    "print(\"Accuracy of Gradient Descent Logistic Regression Model:\", accuracy)\n",
    "\n",
    "# Classification report and confusion matrix\n",
    "print(\"Classification Report:\")\n",
    "print(classification_report(y_test, y_pred))\n",
    "\n",
    "# Classification report and confusion matrix\n",
    "print(\"Confusion Matrix:\")\n",
    "print(confusion_matrix(y_test, y_pred))"
   ]
  },
  {
   "cell_type": "markdown",
   "metadata": {},
   "source": [
    "The PCA doesn't improve the results from the SMOTE. Again, the dataset is balanced, but the SMOTE introduced synthetic examples that didn't improve the model as the feature relationships are not well captured. Balanced but poor performance."
   ]
  },
  {
   "cell_type": "markdown",
   "metadata": {},
   "source": [
    "### Best model\n",
    "The downsampling + PCA model is the best-performing model based on these results. It achieves a good balance of overall accuracy (74.9%) and shows an improvement in recall (0.37) for the minority class compared to the other models. The f1-score and precision for class 1 are also higher than the other models, indicating that it makes more successful predictions for delayed shipments while maintaining a reasonable overall accuracy. This suggests that PCA helps retain key information while reducing dimensionality, improving the model's ability to recognize delayed shipments in a more balanced way compared to the purely downsampled or SMOTE models."
   ]
  }
 ],
 "metadata": {
  "kernelspec": {
   "display_name": "venv",
   "language": "python",
   "name": "python3"
  },
  "language_info": {
   "codemirror_mode": {
    "name": "ipython",
    "version": 3
   },
   "file_extension": ".py",
   "mimetype": "text/x-python",
   "name": "python",
   "nbconvert_exporter": "python",
   "pygments_lexer": "ipython3",
   "version": "3.12.0"
  }
 },
 "nbformat": 4,
 "nbformat_minor": 2
}
